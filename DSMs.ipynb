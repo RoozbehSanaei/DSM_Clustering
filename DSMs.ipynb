{
  "nbformat": 4,
  "nbformat_minor": 0,
  "metadata": {
    "colab": {
      "name": "DSMs.ipynb",
      "provenance": [],
      "collapsed_sections": [],
      "include_colab_link": true
    },
    "kernelspec": {
      "name": "python3",
      "display_name": "Python 3"
    }
  },
  "cells": [
    {
      "cell_type": "markdown",
      "metadata": {
        "id": "view-in-github",
        "colab_type": "text"
      },
      "source": [
        "<a href=\"https://colab.research.google.com/github/RoozbehSanaei/DSM_Repository/blob/master/DSMs.ipynb\" target=\"_parent\"><img src=\"https://colab.research.google.com/assets/colab-badge.svg\" alt=\"Open In Colab\"/></a>"
      ]
    },
    {
      "cell_type": "code",
      "metadata": {
        "id": "1qq8wHWSH2Xn",
        "colab_type": "code",
        "colab": {}
      },
      "source": [
        "def MotorController():\n",
        "  C = dict()\n",
        "\n",
        "  C[\"Single Phase Electric Power\",\"AC to 5V DC Transformer\"]= 1\n",
        "  C[\"Single Phase Electric Power\",\"Rectifier\"]= 1\n",
        "  C[\"Single Phase Electric Power\",\"AC to 15V DC Transformer\"]= 1\n",
        "\n",
        "  C[\"Rectifier\",\"Single Phase Electric Power\"] =1\n",
        "  C[\"Rectifier\",\"Thermal Conductor\"] = 1\n",
        "  C[\"Rectifier\",\"CAP\"] = 1\n",
        "\n",
        "  C[\"CAP\",\"Rectifier\"] = 1 \n",
        "  C[\"CAP\",\"Voltage Divider\"] = 1 \n",
        "  C[\"CAP\",\"Thermal Conductor\"] = 1 \n",
        "\n",
        "  C[\"Shunt\",\"Bridge\"] = 1 \n",
        "  C[\"Shunt\",\"Voltage Divider\"] = 1 \n",
        "  C[\"Shunt\",\"Thermal Conductor\"] = 1 \n",
        "  C[\"Shunt\",\"Linear Optocoupler 2\"] = 1 \n",
        "\n",
        "  C[\"Voltage Divider\",\"Linear Optocoupler 1\"] = 1 \n",
        "  C[\"Voltage Divider\",\"Shunt\"] = 1 \n",
        "  C[\"Voltage Divider\",\"CAP\"] = 1 \n",
        "  C[\"Voltage Divider\",\"Thermal Conductor\"] = 1 \n",
        "\n",
        "  C[\"Bridge\",\"Shunt\"] = 1 \n",
        "  C[\"Bridge\",\"Over-current Under-voltage Protection\"] = 1 \n",
        "\n",
        "  C[\"Heat Sink\",\"Thermal Conductor\"] = 1 \n",
        "\n",
        "  C[\"Thermal Conductor\",\"Rectifier\"] = 1 \n",
        "  C[\"Thermal Conductor\",\"CAP\"] = 1 \n",
        "  C[\"Thermal Conductor\",\"Voltage Divider\"] = 1 \n",
        "  C[\"Thermal Conductor\",\"Rectifier\"] = 1 \n",
        "  C[\"Thermal Conductor\",\"Heat Sink\"] = 1 \n",
        "  C[\"Thermal Conductor\",\"Shunt\"] = 1 \n",
        "\n",
        "  C[\"AC to 5V DC Transformer\",\"Microcontroller\"]= 1\n",
        "  C[\"AC to 5V DC Transformer\",\"R/C/Zn 1\"]= 1\n",
        "  C[\"AC to 5V DC Transformer\",\"R/C/Zn 2\"]= 1\n",
        "  C[\"AC to 5V DC Transformer\",\"Relay\"]= 1\n",
        "  C[\"AC to 5V DC Transformer\",\"Status LED\"]= 1\n",
        "  C[\"AC to 5V DC Transformer\",\"Multiplexor\"]= 1\n",
        "  C[\"AC to 5V DC Transformer\",\"Single Phase Electric Power\"]= 1\n",
        "\n",
        "  C[\"AC to 15V DC Transformer\",\"Single Phase Electric Power\"]= 1\n",
        "  C[\"AC to 15V DC Transformer\",\"Over-current Under-voltage Protection\"]= 1\n",
        "\n",
        "  C[\"Over-current Under-voltage Protection\",\"Bridge\"]= 1\n",
        "  C[\"Over-current Under-voltage Protection\",\"DEI1\"]= 1\n",
        "  C[\"Over-current Under-voltage Protection\",\"DEI2\"]= 1\n",
        "  C[\"Over-current Under-voltage Protection\",\"DEI3\"]= 1\n",
        "  C[\"Over-current Under-voltage Protection\",\"DEI4\"]= 1\n",
        "  C[\"Over-current Under-voltage Protection\",\"DEI5\"]= 1\n",
        "  C[\"Over-current Under-voltage Protection\",\"DEI6\"]= 1\n",
        "  C[\"Over-current Under-voltage Protection\",\"AC to 15V DC Transformer\"]= 1\n",
        "\n",
        "  C[\"Linear Optocoupler 1\",\"Voltage Divider\"] = 1 \n",
        "  C[\"Linear Optocoupler 1\",\"Microcontroller\"] = 1 \n",
        "\n",
        "  C[\"Linear Optocoupler 2\",\"Shunt\"] = 1 \n",
        "  C[\"Linear Optocoupler 2\",\"Microcontroller\"] = 1 \n",
        "\n",
        "  C[\"DEI1\",\"Microcontroller\"]= 1\n",
        "  C[\"DEI2\",\"Microcontroller\"]= 1\n",
        "  C[\"DEI3\",\"Microcontroller\"]= 1\n",
        "  C[\"DEI4\",\"Microcontroller\"]= 1\n",
        "  C[\"DEI5\",\"Microcontroller\"]= 1\n",
        "  C[\"DEI6\",\"Microcontroller\"]= 1\n",
        "\n",
        "  C[\"DEI1\",\"Over-current Under-voltage Protection\"]= 1\n",
        "  C[\"DEI2\",\"Over-current Under-voltage Protection\"]= 1\n",
        "  C[\"DEI3\",\"Over-current Under-voltage Protection\"]= 1\n",
        "  C[\"DEI4\",\"Over-current Under-voltage Protection\"]= 1\n",
        "  C[\"DEI5\",\"Over-current Under-voltage Protection\"]= 1\n",
        "  C[\"DEI6\",\"Over-current Under-voltage Protection\"]= 1\n",
        "\n",
        "  C[\"Microcontroller\",\"DEI1\"]= 1\n",
        "  C[\"Microcontroller\",\"DEI2\"]= 1\n",
        "  C[\"Microcontroller\",\"DEI3\"]= 1\n",
        "  C[\"Microcontroller\",\"DEI4\"]= 1\n",
        "  C[\"Microcontroller\",\"DEI5\"]= 1\n",
        "  C[\"Microcontroller\",\"DEI6\"]= 1\n",
        "  C[\"Microcontroller\",\"AC to 5V DC Transformer\"]= 1\n",
        "  C[\"Microcontroller\",\"Linear Optocoupler 1\"]= 1\n",
        "  C[\"Microcontroller\",\"Linear Optocoupler 2\"]= 1\n",
        "  C[\"Microcontroller\",\"R/C/Zn 1\"]= 1\n",
        "  C[\"Microcontroller\",\"R/C/Zn 2\"]= 1\n",
        "  C[\"Microcontroller\",\"Relay\"]= 1\n",
        "  C[\"Microcontroller\",\"Status LED\"]= 1\n",
        "\n",
        "  C[\"Multiplexor\",\"AC to 5V DC Transformer\"]= 1\n",
        "  C[\"Multiplexor\",\"Increase Push Button\"]= 1\n",
        "  C[\"Multiplexor\",\"Decrease Push Button\"]= 1\n",
        "\n",
        "\n",
        "  C[\"Increase Push Button\",\"Multiplexor\"]= 1\n",
        "  C[\"Decrease Push Button\",\"Multiplexor\"]= 1\n",
        "\n",
        "  C[\"R/C/Zn 1\",\"AC to 5V DC Transformer\"]= 1\n",
        "  C[\"R/C/Zn 2\",\"AC to 5V DC Transformer\"]= 1\n",
        "  C[\"Relay\",\"AC to 5V DC Transformer\"]= 1\n",
        "  C[\"Status LED\",\"AC to 5V DC Transformer\"]= 1\n",
        "\n",
        "  C[\"R/C/Zn 1\",\"Microcontroller\"]= 1\n",
        "  C[\"R/C/Zn 2\",\"Microcontroller\"]= 1\n",
        "  C[\"Relay\",\"Microcontroller\"]= 1\n",
        "  C[\"Status LED\",\"Microcontroller\"]= 1\n",
        "\n",
        "  Fields = [('DEI1',0),\n",
        "  ('DEI2',0),\n",
        "  ('DEI3',0),\n",
        "  ('DEI4',0),\n",
        "  ('DEI5',0),\n",
        "  ('DEI6',0),\n",
        "  ('Heat Sink',1),\n",
        "  ('Thermal Conductor',1),\n",
        "  ('Rectifier',1),\n",
        "  ('CAP',1),\n",
        "  ('Voltage Divider',1),\n",
        "  ('Bridge',1),\n",
        "  ('Shunt',1),\n",
        "  ('AC to 15V DC Transformer' ,1),\n",
        "  ('AC to 5V DC Transformer',1),\n",
        "  ('Decrease Push Button',2),\n",
        "  ('Increase Push Button',2),\n",
        "  ('Linear Optocoupler 1',2),\n",
        "  ('Linear Optocoupler 2',2),\n",
        "  ('Microcontroller',2),\n",
        "  ('Multiplexor',2),\n",
        "  ('Over-current Under-voltage Protection',2),\n",
        "  ('R/C/Zn 1',2),\n",
        "  ('R/C/Zn 2',2),\n",
        "  ('Relay',2),\n",
        "  ('Single Phase Electric Power',2),\n",
        "  ('Status LED',2)]\n",
        "\n",
        "  d['Connectivity'] = C\n",
        "  d['Fields'] = Fields\n",
        " \n",
        "  return d"
      ],
      "execution_count": 0,
      "outputs": []
    },
    {
      "cell_type": "code",
      "metadata": {
        "id": "G-f4m4xZ1M0k",
        "colab_type": "code",
        "colab": {}
      },
      "source": [
        ""
      ],
      "execution_count": 0,
      "outputs": []
    },
    {
      "cell_type": "code",
      "metadata": {
        "id": "gHEflOo5XTGB",
        "colab_type": "code",
        "colab": {}
      },
      "source": [
        "import numpy as np\n",
        "def DSM(C):\n",
        "    d = dict()\n",
        "    Components = []\n",
        "    for e in C.keys():\n",
        "      Components.append(e[0])\n",
        "      Components.append(e[1])\n",
        "    Components = sorted(list(set(Components)))\n",
        "    DSM = np.array([[C[e1,e2] if (e1,e2) in C else 0 for e1 in Components] for e2 in Components])\n",
        "    d['DSM'] = DSM\n",
        "    d['Components'] = Components\n",
        "    return d\n",
        "\n",
        "def ConstraintsMat(c,Fields):\n",
        "  F = dict(Fields)\n",
        "  Constraints = np.zeros((len(c),len(c)))\n",
        "  for i in range(len(c)):\n",
        "    for j in range(len(c)):\n",
        "      e1 = c[i]\n",
        "      e2 = c[j]\n",
        "      if (F[e1]==0): Constraints[i,j] = 0\n",
        "      elif (F[e2]==0): Constraints[i,j] = 0\n",
        "      elif (F[e1] == F[e2]): Constraints[i,j] = 0\n",
        "      else: Constraints[i,j] = 1\n",
        "  return Constraints"
      ],
      "execution_count": 0,
      "outputs": []
    },
    {
      "cell_type": "code",
      "metadata": {
        "id": "Fk0EnVXUPL6q",
        "colab_type": "code",
        "outputId": "36c71901-fc19-41f2-c044-d82444a6321f",
        "colab": {
          "base_uri": "https://localhost:8080/",
          "height": 953
        }
      },
      "source": [
        "dsm = DSM(MotorController()['Connectivity'])\n",
        "ConstraintsMat(d['Components'],MotorController()['Fields'])"
      ],
      "execution_count": 0,
      "outputs": [
        {
          "output_type": "execute_result",
          "data": {
            "text/plain": [
              "array([[0., 0., 0., 0., 0., 0., 0., 0., 0., 0., 1., 0., 1., 1., 1., 1.,\n",
              "        1., 1., 1., 1., 0., 1., 0., 1., 1., 0., 0.],\n",
              "       [0., 0., 0., 0., 0., 0., 0., 0., 0., 0., 1., 0., 1., 1., 1., 1.,\n",
              "        1., 1., 1., 1., 0., 1., 0., 1., 1., 0., 0.],\n",
              "       [0., 0., 0., 0., 0., 0., 0., 0., 0., 0., 1., 0., 1., 1., 1., 1.,\n",
              "        1., 1., 1., 1., 0., 1., 0., 1., 1., 0., 0.],\n",
              "       [0., 0., 0., 0., 0., 0., 0., 0., 0., 0., 1., 0., 1., 1., 1., 1.,\n",
              "        1., 1., 1., 1., 0., 1., 0., 1., 1., 0., 0.],\n",
              "       [0., 0., 0., 0., 0., 0., 0., 0., 0., 0., 0., 0., 0., 0., 0., 0.,\n",
              "        0., 0., 0., 0., 0., 0., 0., 0., 0., 0., 0.],\n",
              "       [0., 0., 0., 0., 0., 0., 0., 0., 0., 0., 0., 0., 0., 0., 0., 0.,\n",
              "        0., 0., 0., 0., 0., 0., 0., 0., 0., 0., 0.],\n",
              "       [0., 0., 0., 0., 0., 0., 0., 0., 0., 0., 0., 0., 0., 0., 0., 0.,\n",
              "        0., 0., 0., 0., 0., 0., 0., 0., 0., 0., 0.],\n",
              "       [0., 0., 0., 0., 0., 0., 0., 0., 0., 0., 0., 0., 0., 0., 0., 0.,\n",
              "        0., 0., 0., 0., 0., 0., 0., 0., 0., 0., 0.],\n",
              "       [0., 0., 0., 0., 0., 0., 0., 0., 0., 0., 0., 0., 0., 0., 0., 0.,\n",
              "        0., 0., 0., 0., 0., 0., 0., 0., 0., 0., 0.],\n",
              "       [0., 0., 0., 0., 0., 0., 0., 0., 0., 0., 0., 0., 0., 0., 0., 0.,\n",
              "        0., 0., 0., 0., 0., 0., 0., 0., 0., 0., 0.],\n",
              "       [1., 1., 1., 1., 0., 0., 0., 0., 0., 0., 0., 1., 0., 0., 0., 0.,\n",
              "        0., 0., 0., 0., 1., 0., 1., 0., 0., 1., 1.],\n",
              "       [0., 0., 0., 0., 0., 0., 0., 0., 0., 0., 1., 0., 1., 1., 1., 1.,\n",
              "        1., 1., 1., 1., 0., 1., 0., 1., 1., 0., 0.],\n",
              "       [1., 1., 1., 1., 0., 0., 0., 0., 0., 0., 0., 1., 0., 0., 0., 0.,\n",
              "        0., 0., 0., 0., 1., 0., 1., 0., 0., 1., 1.],\n",
              "       [1., 1., 1., 1., 0., 0., 0., 0., 0., 0., 0., 1., 0., 0., 0., 0.,\n",
              "        0., 0., 0., 0., 1., 0., 1., 0., 0., 1., 1.],\n",
              "       [1., 1., 1., 1., 0., 0., 0., 0., 0., 0., 0., 1., 0., 0., 0., 0.,\n",
              "        0., 0., 0., 0., 1., 0., 1., 0., 0., 1., 1.],\n",
              "       [1., 1., 1., 1., 0., 0., 0., 0., 0., 0., 0., 1., 0., 0., 0., 0.,\n",
              "        0., 0., 0., 0., 1., 0., 1., 0., 0., 1., 1.],\n",
              "       [1., 1., 1., 1., 0., 0., 0., 0., 0., 0., 0., 1., 0., 0., 0., 0.,\n",
              "        0., 0., 0., 0., 1., 0., 1., 0., 0., 1., 1.],\n",
              "       [1., 1., 1., 1., 0., 0., 0., 0., 0., 0., 0., 1., 0., 0., 0., 0.,\n",
              "        0., 0., 0., 0., 1., 0., 1., 0., 0., 1., 1.],\n",
              "       [1., 1., 1., 1., 0., 0., 0., 0., 0., 0., 0., 1., 0., 0., 0., 0.,\n",
              "        0., 0., 0., 0., 1., 0., 1., 0., 0., 1., 1.],\n",
              "       [1., 1., 1., 1., 0., 0., 0., 0., 0., 0., 0., 1., 0., 0., 0., 0.,\n",
              "        0., 0., 0., 0., 1., 0., 1., 0., 0., 1., 1.],\n",
              "       [0., 0., 0., 0., 0., 0., 0., 0., 0., 0., 1., 0., 1., 1., 1., 1.,\n",
              "        1., 1., 1., 1., 0., 1., 0., 1., 1., 0., 0.],\n",
              "       [1., 1., 1., 1., 0., 0., 0., 0., 0., 0., 0., 1., 0., 0., 0., 0.,\n",
              "        0., 0., 0., 0., 1., 0., 1., 0., 0., 1., 1.],\n",
              "       [0., 0., 0., 0., 0., 0., 0., 0., 0., 0., 1., 0., 1., 1., 1., 1.,\n",
              "        1., 1., 1., 1., 0., 1., 0., 1., 1., 0., 0.],\n",
              "       [1., 1., 1., 1., 0., 0., 0., 0., 0., 0., 0., 1., 0., 0., 0., 0.,\n",
              "        0., 0., 0., 0., 1., 0., 1., 0., 0., 1., 1.],\n",
              "       [1., 1., 1., 1., 0., 0., 0., 0., 0., 0., 0., 1., 0., 0., 0., 0.,\n",
              "        0., 0., 0., 0., 1., 0., 1., 0., 0., 1., 1.],\n",
              "       [0., 0., 0., 0., 0., 0., 0., 0., 0., 0., 1., 0., 1., 1., 1., 1.,\n",
              "        1., 1., 1., 1., 0., 1., 0., 1., 1., 0., 0.],\n",
              "       [0., 0., 0., 0., 0., 0., 0., 0., 0., 0., 1., 0., 1., 1., 1., 1.,\n",
              "        1., 1., 1., 1., 0., 1., 0., 1., 1., 0., 0.]])"
            ]
          },
          "metadata": {
            "tags": []
          },
          "execution_count": 118
        }
      ]
    },
    {
      "cell_type": "code",
      "metadata": {
        "id": "vom0Mrsctq02",
        "colab_type": "code",
        "colab": {}
      },
      "source": [
        "from xlwt import *\n",
        "book = Workbook(encoding='utf-8')\n",
        "DSM_sheet = book.add_sheet('DSM')\n",
        "\n",
        "for row in range(dsm['DSM'].shape[0]):\n",
        "  for col in range(dsm['DSM'].shape[1]):\n",
        "    DSM_sheet.write(row, col, int(dsm['DSM'][0][0]))\n",
        "\n",
        "name = \"this.xls\"\n",
        "book.save(name)"
      ],
      "execution_count": 0,
      "outputs": []
    },
    {
      "cell_type": "code",
      "metadata": {
        "id": "csBYSIjP9tbk",
        "colab_type": "code",
        "outputId": "d954267f-3415-459f-860b-3b21ac698d43",
        "colab": {
          "base_uri": "https://localhost:8080/",
          "height": 35
        }
      },
      "source": [
        "!ls"
      ],
      "execution_count": 0,
      "outputs": [
        {
          "output_type": "stream",
          "text": [
            "sample_data  this.xls\n"
          ],
          "name": "stdout"
        }
      ]
    }
  ]
}